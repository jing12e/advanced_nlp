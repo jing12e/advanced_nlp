{
 "cells": [
  {
   "cell_type": "code",
   "execution_count": null,
   "id": "initial_id",
   "metadata": {
    "collapsed": true
   },
   "outputs": [],
   "source": []
  },
  {
   "cell_type": "code",
   "execution_count": 2,
   "outputs": [
    {
     "name": "stdout",
     "output_type": "stream",
     "text": [
      "Leaf positions: 4 7\n",
      "Path to node 1: (0, 0, 1, 0, 1, 0)\n",
      "Path to node 2: (0, 0, 1, 1, 1, 0, 1, 0)\n",
      "Minimum Complete Tree (MCT):\n",
      "                                NP                                        \n",
      "         _______________________|________                                  \n",
      "        |                                NP                               \n",
      "        |                   _____________|_________                        \n",
      "        |                  |                       PP                     \n",
      "        |                  |          _____________|______                 \n",
      "        |                  |         |                    NP              \n",
      "        |                  |         |        ____________|_______         \n",
      "        |                  |         |       |                    PP      \n",
      "        |                  |         |       |                 ___|____    \n",
      "        NP                 NP        |       NP               |        NP \n",
      "  ______|______       _____|____     |    ___|_____           |        |   \n",
      " DT    VBN     CD    JJ        NNP   IN  DT        NN         IN      NNP \n",
      " |      |      |     |          |    |   |         |          |        |   \n",
      " an estimated 2000 ethnic     Tutsi  in the     district      of     Tawba\n"
     ]
    }
   ],
   "source": [
    "import nltk\n",
    "from nltk.parse import CoreNLPParser\n",
    "from nltk.tree import ParentedTree\n",
    "from nltk import Tree\n",
    "# Initialize the Charniak parser\n",
    "parser = CoreNLPParser(url='http://localhost:9000')\n",
    "\n",
    "# Example sentence\n",
    "sentence = \"an estimated 2000 ethnic Tutsi in the district of Tawba.\"\n",
    "#sentence = \"Akyetsu testified he was powerless to stop the merger of an estimated 2000 ethnic Tutsi in the district of Tawba.\"\n",
    "# Parse the sentence\n",
    "parse_tree = next(parser.raw_parse(sentence))\n",
    "\n",
    "\n",
    "# Function to find the nearest common ancestor of two nodes in the parse tree\n",
    "def find_nearest_common_ancestor(tree, entity1, entity2):\n",
    "    entity1_index = None\n",
    "    entity2_index = None\n",
    "    for i, leaf in enumerate(tree.leaves()):\n",
    "        if entity1 in leaf:\n",
    "            entity1_index = i\n",
    "        if entity2 in leaf:\n",
    "            entity2_index = i\n",
    "    if entity1_index is not None and entity2_index is not None:\n",
    "        print(\"Leaf positions:\", entity1_index, entity2_index)\n",
    "        path_to_node1 = tree.leaf_treeposition(entity1_index)\n",
    "        path_to_node2 = tree.leaf_treeposition(entity2_index)\n",
    "        print(\"Path to node 1:\", path_to_node1)\n",
    "        print(\"Path to node 2:\", path_to_node2)\n",
    "        for i in range(min(len(path_to_node1), len(path_to_node2))):\n",
    "            if path_to_node1[i] != path_to_node2[i]:\n",
    "                return tree[path_to_node1[:i - 1]]\n",
    "        return tree[path_to_node1[:i - 1]]\n",
    "    else:\n",
    "        print(\"Entities not found in the parse tree.\")\n",
    "        return None\n",
    "\n",
    "\n",
    "# Example entities\n",
    "entity1 = \"Tutsi\"\n",
    "entity2 = \"district\"\n",
    "\n",
    "# Find the nearest common ancestor of the entities\n",
    "nearest_common_ancestor = find_nearest_common_ancestor(parse_tree, entity1, entity2)\n",
    "\n",
    "if nearest_common_ancestor is not None:\n",
    "    # Extract the subtree rooted at the nearest common ancestor\n",
    "    mct_subtree = nearest_common_ancestor.copy(deep=True)\n",
    "\n",
    "    # Print the Minimum Complete Tree\n",
    "    print(\"Minimum Complete Tree (MCT):\")\n",
    "    \n",
    "    mct_string = mct_subtree.pformat()\n",
    "    t = Tree.fromstring(mct_string)\n",
    "    t.pretty_print()\n",
    "\n"
   ],
   "metadata": {
    "collapsed": false,
    "ExecuteTime": {
     "end_time": "2024-02-16T12:50:28.401622300Z",
     "start_time": "2024-02-16T12:50:28.266488500Z"
    }
   },
   "id": "b498a9a467fe247"
  },
  {
   "cell_type": "code",
   "execution_count": null,
   "outputs": [],
   "source": [],
   "metadata": {
    "collapsed": false
   },
   "id": "ac9ef3ba513218f"
  }
 ],
 "metadata": {
  "kernelspec": {
   "display_name": "Python 3",
   "language": "python",
   "name": "python3"
  },
  "language_info": {
   "codemirror_mode": {
    "name": "ipython",
    "version": 2
   },
   "file_extension": ".py",
   "mimetype": "text/x-python",
   "name": "python",
   "nbconvert_exporter": "python",
   "pygments_lexer": "ipython2",
   "version": "2.7.6"
  }
 },
 "nbformat": 4,
 "nbformat_minor": 5
}
